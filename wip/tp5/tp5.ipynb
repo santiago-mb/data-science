{
 "cells": [
  {
   "cell_type": "code",
   "execution_count": 34,
   "metadata": {},
   "outputs": [],
   "source": [
    "import pymc3 as pm\n",
    "import matplotlib.pyplot as plt\n",
    "import seaborn as sns\n"
   ]
  },
  {
   "cell_type": "code",
   "execution_count": 130,
   "metadata": {},
   "outputs": [
    {
     "name": "stderr",
     "output_type": "stream",
     "text": [
      "Auto-assigning NUTS sampler...\n",
      "Initializing NUTS using jitter+adapt_diag...\n",
      "100%|██████████| 10500/10500 [00:04<00:00, 2320.54it/s]\n",
      "logp = -0.0023631, ||grad|| = 0.0023627: 100%|██████████| 20/20 [00:00<00:00, 2465.50it/s]  \n",
      "100%|██████████| 1/1 [00:00<00:00, 1859.18it/s]\n",
      "Auto-assigning NUTS sampler...\n",
      "Initializing NUTS using jitter+adapt_diag...\n",
      "100%|██████████| 10500/10500 [00:04<00:00, 2392.75it/s]\n",
      "logp = -2.0846, ||grad|| = 3: 100%|██████████| 6/6 [00:00<00:00, 1585.65it/s]\n",
      "100%|██████████| 1/1 [00:00<00:00, 1988.76it/s]\n",
      "Auto-assigning NUTS sampler...\n",
      "Initializing NUTS using jitter+adapt_diag...\n",
      "100%|██████████| 10500/10500 [00:04<00:00, 2338.72it/s]\n",
      "logp = -2.5465, ||grad|| = 3: 100%|██████████| 6/6 [00:00<00:00, 1763.67it/s]\n",
      "100%|██████████| 1/1 [00:00<00:00, 2421.65it/s]\n",
      "Auto-assigning NUTS sampler...\n",
      "Initializing NUTS using jitter+adapt_diag...\n",
      "100%|██████████| 10500/10500 [00:04<00:00, 2461.04it/s]\n",
      "logp = -3.5303, ||grad|| = 3: 100%|██████████| 7/7 [00:00<00:00, 1865.20it/s]\n",
      "100%|██████████| 1/1 [00:00<00:00, 1859.18it/s]\n"
     ]
    }
   ],
   "source": [
    "def foo(n, k_observed, alpha, beta):\n",
    "    model = pm.Model()\n",
    "    with model:\n",
    "        theta = pm.Beta('theta', alpha = alpha, beta = beta)\n",
    "        k = pm.Binomial('k', n = n, p = theta, observed = k_observed)\n",
    "        trace = pm.sample(10000)\n",
    "        model_map = pm.find_MAP(model = model)['theta']\n",
    "        post_pred = pm.sample_ppc(trace, samples = 1)\n",
    "    return trace, model_map, post_pred\n",
    "\n",
    "trace_1_1, model_map_1_1, post_pred_1_1 = foo(6, 6, 1, 1)\n",
    "trace_50_50, model_map_50_50, post_pred_50_50 = foo(6, 6, 50, 50)\n",
    "trace_20_20, model_map_20_20, post_pred_20_20 = foo(6, 6, 20, 20)\n",
    "trace_3_3, model_map_3_3, post_pred_3_3 = foo(6, 6, 3, 3)\n"
   ]
  },
  {
   "cell_type": "code",
   "execution_count": 131,
   "metadata": {},
   "outputs": [
    {
     "data": {
      "image/png": "[encoded data removed]",
      "text/plain": [
       "<matplotlib.figure.Figure at 0x11fb5e2d0>"
      ]
     },
     "metadata": {},
     "output_type": "display_data"
    }
   ],
   "source": [
    "ax = sns.kdeplot(trace_1_1['theta'])\n",
    "ax.set_xlim([0, 1])\n",
    "\n",
    "ax = sns.kdeplot(trace_50_50['theta'])\n",
    "ax.set_xlim([0, 1])\n",
    "\n",
    "plt.show()\n"
   ]
  },
  {
   "cell_type": "code",
   "execution_count": 132,
   "metadata": {},
   "outputs": [
    {
     "name": "stdout",
     "output_type": "stream",
     "text": [
      "0.999998462083\n",
      "0.528846153741\n",
      "0.871172382001\n",
      "0.529183254178\n"
     ]
    }
   ],
   "source": [
    "print model_map_1_1\n",
    "print model_map_50_50\n",
    "print pm.df_summary(trace_1_1)['mean']['theta']\n",
    "print pm.df_summary(trace_50_50)['mean']['theta']\n"
   ]
  },
  {
   "cell_type": "code",
   "execution_count": 133,
   "metadata": {},
   "outputs": [
    {
     "name": "stdout",
     "output_type": "stream",
     "text": [
      "{'k': array([4])}\n",
      "{'k': array([4])}\n"
     ]
    }
   ],
   "source": [
    "print post_pred_1_1\n",
    "print post_pred_50_50"
   ]
  }
 ],
 "metadata": {
  "kernelspec": {
   "display_name": "Python 2",
   "language": "python",
   "name": "python2"
  },
  "language_info": {
   "codemirror_mode": {
    "name": "ipython",
    "version": 2
   },
   "file_extension": ".py",
   "mimetype": "text/x-python",
   "name": "python",
   "nbconvert_exporter": "python",
   "pygments_lexer": "ipython2",
   "version": "2.7.13"
  }
 },
 "nbformat": 4,
 "nbformat_minor": 2
}
