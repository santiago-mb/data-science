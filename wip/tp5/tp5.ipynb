{
 "cells": [
  {
   "cell_type": "code",
   "execution_count": 1,
   "metadata": {},
   "outputs": [],
   "source": [
    "import pymc3 as pm\n",
    "import matplotlib.pyplot as plt\n",
    "import pandas as pd\n",
    "import seaborn as sns\n",
    "from IPython.display import display\n",
    "import collections"
   ]
  },
  {
   "cell_type": "markdown",
   "metadata": {},
   "source": [
    "# Considere el modelo Beta-Binomial para la moneda\n",
    "\n",
    "## Implemente el modelo en pycm3 para los priors Beta(1, 1) y Beta(50, 50)\\*\n",
    "\n",
    "\\* Beta(100, 100) trae errores numéricos con los que no vale la pena lidiar"
   ]
  },
  {
   "cell_type": "code",
   "execution_count": 2,
   "metadata": {},
   "outputs": [
    {
     "name": "stderr",
     "output_type": "stream",
     "text": [
      "Auto-assigning NUTS sampler...\n",
      "Initializing NUTS using jitter+adapt_diag...\n",
      "100%|██████████| 10500/10500 [00:04<00:00, 2413.99it/s]\n",
      "logp = -0.0023631, ||grad|| = 0.0023627: 100%|██████████| 20/20 [00:00<00:00, 1695.94it/s]  \n",
      "100%|██████████| 1/1 [00:00<00:00, 1196.32it/s]\n",
      "Auto-assigning NUTS sampler...\n",
      "Initializing NUTS using jitter+adapt_diag...\n",
      "100%|██████████| 10500/10500 [00:04<00:00, 2512.26it/s]\n",
      "logp = -2.0846, ||grad|| = 3: 100%|██████████| 6/6 [00:00<00:00, 1495.12it/s]\n",
      "100%|██████████| 1/1 [00:00<00:00, 1620.67it/s]\n",
      "Auto-assigning NUTS sampler...\n",
      "Initializing NUTS using jitter+adapt_diag...\n",
      "100%|██████████| 10500/10500 [00:04<00:00, 2578.15it/s]\n",
      "logp = -0.0011816, ||grad|| = 0.0011814: 100%|██████████| 19/19 [00:00<00:00, 2329.56it/s]  \n",
      "100%|██████████| 1/1 [00:00<00:00, 1122.37it/s]\n",
      "Auto-assigning NUTS sampler...\n",
      "Initializing NUTS using jitter+adapt_diag...\n",
      "100%|██████████| 10500/10500 [00:04<00:00, 2429.82it/s]\n",
      "logp = -0.0051492, ||grad|| = 1.5: 100%|██████████| 6/6 [00:00<00:00, 1609.89it/s]\n",
      "100%|██████████| 1/1 [00:00<00:00, 2007.80it/s]\n",
      "Auto-assigning NUTS sampler...\n",
      "Initializing NUTS using jitter+adapt_diag...\n",
      " 99%|█████████▊| 10347/10500 [00:04<00:00, 2491.02it/s]/Users/personal/anaconda2/lib/python2.7/site-packages/pymc3/step_methods/hmc/nuts.py:467: UserWarning: Chain 0 contains 26 diverging samples after tuning. If increasing `target_accept` does not help try to reparameterize.\n",
      "  % (self._chain_id, n_diverging))\n",
      "100%|██████████| 10500/10500 [00:04<00:00, 2489.32it/s]\n",
      "logp = -7.0849e-06, ||grad|| = 7.6896e-06: 100%|██████████| 22/22 [00:00<00:00, 2008.98it/s]  \n",
      "100%|██████████| 1/1 [00:00<00:00, 1658.48it/s]\n",
      "Auto-assigning NUTS sampler...\n",
      "Initializing NUTS using jitter+adapt_diag...\n",
      "100%|██████████| 10500/10500 [00:04<00:00, 2225.49it/s]\n",
      "logp = -11.789, ||grad|| = 10: 100%|██████████| 6/6 [00:00<00:00, 1642.03it/s]\n",
      "100%|██████████| 1/1 [00:00<00:00, 1108.72it/s]\n"
     ]
    }
   ],
   "source": [
    "def foo(n, k_observed, alpha, beta):\n",
    "    model = pm.Model()\n",
    "    with model:\n",
    "        theta = pm.Beta('theta', alpha = alpha, beta = beta)\n",
    "        k = pm.Binomial('k', n = n, p = theta, observed = k_observed)\n",
    "        trace = pm.sample(10000)\n",
    "        model_map = pm.find_MAP(model = model)['theta']\n",
    "        post_pred = pm.sample_ppc(trace, samples = 1)\n",
    "    return trace, model_map, post_pred\n",
    "\n",
    "trace_6611, model_map_6611, post_pred_6611 = foo(6, 6, 1, 1)\n",
    "trace_665050, model_map_665050, post_pred_665050 = foo(6, 6, 50, 50)\n",
    "\n",
    "trace_3311, model_map_3311, post_pred_3311 = foo(3, 3, 1, 1)\n",
    "trace_335050, model_map_335050, post_pred_335050 = foo(3, 3, 50, 50)\n",
    "trace_202011, model_map_202011, post_pred_202011 = foo(20, 20, 1, 1)\n",
    "trace_20205050, model_map_20205050, post_pred_20205050 = foo(20, 20, 50, 50)\n"
   ]
  },
  {
   "cell_type": "markdown",
   "metadata": {},
   "source": [
    "### Grafique las posteriors resultantes de observar 6 caras de 6 tiradas"
   ]
  },
  {
   "cell_type": "code",
   "execution_count": 3,
   "metadata": {},
   "outputs": [
    {
     "data": {
      "image/png": "[encoded data removed]",
      "text/plain": [
       "<matplotlib.figure.Figure at 0x10ada3410>"
      ]
     },
     "metadata": {},
     "output_type": "display_data"
    }
   ],
   "source": [
    "ax = sns.kdeplot(trace_6611['theta'], label = 'Tiradas=6 Caras=6 Alpha=1 Beta=1')\n",
    "ax.set_xlim([0, 1])\n",
    "\n",
    "ax = sns.kdeplot(trace_665050['theta'], label = 'Tiradas=6 Caras=6 Alpha=50 Beta=50')\n",
    "ax.set_xlim([0, 1])\n",
    "\n",
    "plt.legend(bbox_to_anchor=(1.05, 1), loc=2, borderaxespad=0.)\n",
    "plt.show()\n"
   ]
  },
  {
   "cell_type": "markdown",
   "metadata": {},
   "source": [
    "### Calcula el MAP (máximo a posteriori) y las medias de ambas posterioris"
   ]
  },
  {
   "cell_type": "code",
   "execution_count": 4,
   "metadata": {},
   "outputs": [
    {
     "data": {
      "text/html": [
       "<div>\n",
       "<style>\n",
       "    .dataframe thead tr:only-child th {\n",
       "        text-align: right;\n",
       "    }\n",
       "\n",
       "    .dataframe thead th {\n",
       "        text-align: left;\n",
       "    }\n",
       "\n",
       "    .dataframe tbody tr th {\n",
       "        vertical-align: top;\n",
       "    }\n",
       "</style>\n",
       "<table border=\"1\" class=\"dataframe\">\n",
       "  <thead>\n",
       "    <tr style=\"text-align: right;\">\n",
       "      <th></th>\n",
       "      <th>Tiradas</th>\n",
       "      <th>Caras</th>\n",
       "      <th>Alpha</th>\n",
       "      <th>Beta</th>\n",
       "      <th>Map</th>\n",
       "      <th>Mean</th>\n",
       "    </tr>\n",
       "  </thead>\n",
       "  <tbody>\n",
       "    <tr>\n",
       "      <th>0</th>\n",
       "      <td>6</td>\n",
       "      <td>6</td>\n",
       "      <td>1</td>\n",
       "      <td>1</td>\n",
       "      <td>0.999998462083</td>\n",
       "      <td>0.870901</td>\n",
       "    </tr>\n",
       "    <tr>\n",
       "      <th>1</th>\n",
       "      <td>6</td>\n",
       "      <td>6</td>\n",
       "      <td>50</td>\n",
       "      <td>50</td>\n",
       "      <td>0.528846153741</td>\n",
       "      <td>0.529248</td>\n",
       "    </tr>\n",
       "  </tbody>\n",
       "</table>\n",
       "</div>"
      ],
      "text/plain": [
       "   Tiradas  Caras  Alpha  Beta             Map      Mean\n",
       "0        6      6      1     1  0.999998462083  0.870901\n",
       "1        6      6     50    50  0.528846153741  0.529248"
      ]
     },
     "metadata": {},
     "output_type": "display_data"
    }
   ],
   "source": [
    "od = collections.OrderedDict()\n",
    "od['Tiradas'] = pd.Series([6, 6])\n",
    "od['Caras'] = pd.Series([6, 6])\n",
    "od['Alpha'] = pd.Series([1, 50])\n",
    "od['Beta'] = pd.Series([1, 50])\n",
    "od['Map'] = pd.Series([model_map_6611, model_map_665050])\n",
    "od['Mean'] = pd.Series([pm.df_summary(trace_6611)['mean']['theta'], pm.df_summary(trace_665050)['mean']['theta']])\n",
    "df = pd.DataFrame(od)\n",
    "\n",
    "display(df)\n"
   ]
  },
  {
   "cell_type": "markdown",
   "metadata": {},
   "source": [
    "### Prediga, para ambos priors, el resultado de una nueva tirada de moneda"
   ]
  },
  {
   "cell_type": "code",
   "execution_count": 5,
   "metadata": {},
   "outputs": [
    {
     "name": "stdout",
     "output_type": "stream",
     "text": [
      "Próxima tirada Tiradas=6 Caras=6 Alpha=1 Beta=1: {'k': array([6])}\n",
      "Próxima tirada Tiradas=6 Caras=6 Alpha=50 Beta=50: {'k': array([5])}\n"
     ]
    }
   ],
   "source": [
    "print 'Próxima tirada Tiradas=6 Caras=6 Alpha=1 Beta=1:', post_pred_6611\n",
    "print 'Próxima tirada Tiradas=6 Caras=6 Alpha=50 Beta=50:', post_pred_665050\n"
   ]
  },
  {
   "cell_type": "markdown",
   "metadata": {},
   "source": [
    "### Repita los puntos anteriores para una situación en la que se observan 20 caras de 20 tiradas y otra en la que se observan 3 caras de 3 tiradas"
   ]
  },
  {
   "cell_type": "code",
   "execution_count": 6,
   "metadata": {},
   "outputs": [
    {
     "data": {
      "image/png": "[encoded data removed]",
      "text/plain": [
       "<matplotlib.figure.Figure at 0x10bbd2410>"
      ]
     },
     "metadata": {},
     "output_type": "display_data"
    },
    {
     "data": {
      "text/html": [
       "<div>\n",
       "<style>\n",
       "    .dataframe thead tr:only-child th {\n",
       "        text-align: right;\n",
       "    }\n",
       "\n",
       "    .dataframe thead th {\n",
       "        text-align: left;\n",
       "    }\n",
       "\n",
       "    .dataframe tbody tr th {\n",
       "        vertical-align: top;\n",
       "    }\n",
       "</style>\n",
       "<table border=\"1\" class=\"dataframe\">\n",
       "  <thead>\n",
       "    <tr style=\"text-align: right;\">\n",
       "      <th></th>\n",
       "      <th>Tiradas</th>\n",
       "      <th>Caras</th>\n",
       "      <th>Alpha</th>\n",
       "      <th>Beta</th>\n",
       "      <th>Map</th>\n",
       "      <th>Mean</th>\n",
       "    </tr>\n",
       "  </thead>\n",
       "  <tbody>\n",
       "    <tr>\n",
       "      <th>0</th>\n",
       "      <td>3</td>\n",
       "      <td>3</td>\n",
       "      <td>1</td>\n",
       "      <td>1</td>\n",
       "      <td>0.999996924164</td>\n",
       "      <td>0.799135</td>\n",
       "    </tr>\n",
       "    <tr>\n",
       "      <th>1</th>\n",
       "      <td>3</td>\n",
       "      <td>3</td>\n",
       "      <td>50</td>\n",
       "      <td>50</td>\n",
       "      <td>0.514851485143</td>\n",
       "      <td>0.513732</td>\n",
       "    </tr>\n",
       "    <tr>\n",
       "      <th>2</th>\n",
       "      <td>20</td>\n",
       "      <td>20</td>\n",
       "      <td>1</td>\n",
       "      <td>1</td>\n",
       "      <td>0.999999615521</td>\n",
       "      <td>0.955709</td>\n",
       "    </tr>\n",
       "    <tr>\n",
       "      <th>3</th>\n",
       "      <td>20</td>\n",
       "      <td>20</td>\n",
       "      <td>50</td>\n",
       "      <td>50</td>\n",
       "      <td>0.584745760743</td>\n",
       "      <td>0.584259</td>\n",
       "    </tr>\n",
       "  </tbody>\n",
       "</table>\n",
       "</div>"
      ],
      "text/plain": [
       "   Tiradas  Caras  Alpha  Beta             Map      Mean\n",
       "0        3      3      1     1  0.999996924164  0.799135\n",
       "1        3      3     50    50  0.514851485143  0.513732\n",
       "2       20     20      1     1  0.999999615521  0.955709\n",
       "3       20     20     50    50  0.584745760743  0.584259"
      ]
     },
     "metadata": {},
     "output_type": "display_data"
    },
    {
     "name": "stdout",
     "output_type": "stream",
     "text": [
      "Próxima tirada Tiradas=3 Caras=3 Alpha=1 Beta=1: {'k': array([2])}\n",
      "Próxima tirada Tiradas=3 Caras=3 Alpha=50 Beta=50: {'k': array([2])}\n",
      "Próxima tirada Tiradas=20 Caras=20 Alpha=1 Beta=1: {'k': array([20])}\n",
      "Próxima tirada Tiradas=20 Caras=20 Alpha=50 Beta=50: {'k': array([13])}\n"
     ]
    }
   ],
   "source": [
    "ax = sns.kdeplot(trace_3311['theta'], label = 'Tiradas=3 Caras=3 Alpha=1 Beta=1')\n",
    "ax.set_xlim([0, 1])\n",
    "\n",
    "ax = sns.kdeplot(trace_335050['theta'], label = 'Tiradas=3 Caras=3 Alpha=50 Beta=50')\n",
    "ax.set_xlim([0, 1])\n",
    "\n",
    "ax = sns.kdeplot(trace_202011['theta'], label = 'Tiradas=20 Caras=20 Alpha=1 Beta=1')\n",
    "ax.set_xlim([0, 1])\n",
    "\n",
    "ax = sns.kdeplot(trace_20205050['theta'], label = 'Tiradas=20 Caras=20 Alpha=50 Beta=50')\n",
    "ax.set_xlim([0, 1])\n",
    "\n",
    "plt.legend(bbox_to_anchor=(1.05, 1), loc=2, borderaxespad=0.)\n",
    "plt.show()\n",
    "\n",
    "od = collections.OrderedDict()\n",
    "od['Tiradas'] = pd.Series([3, 3, 20, 20])\n",
    "od['Caras'] = pd.Series([3, 3, 20, 20])\n",
    "od['Alpha'] = pd.Series([1, 50, 1, 50])\n",
    "od['Beta'] = pd.Series([1, 50, 1, 50])\n",
    "od['Map'] = pd.Series([model_map_3311, model_map_335050, model_map_202011, model_map_20205050])\n",
    "od['Mean'] = pd.Series([pm.df_summary(trace_3311)['mean']['theta'], pm.df_summary(trace_335050)['mean']['theta'], pm.df_summary(trace_202011)['mean']['theta'], pm.df_summary(trace_20205050)['mean']['theta']])\n",
    "df = pd.DataFrame(od)\n",
    "\n",
    "display(df)\n",
    "\n",
    "print 'Próxima tirada Tiradas=3 Caras=3 Alpha=1 Beta=1:', post_pred_3311\n",
    "print 'Próxima tirada Tiradas=3 Caras=3 Alpha=50 Beta=50:', post_pred_335050\n",
    "print 'Próxima tirada Tiradas=20 Caras=20 Alpha=1 Beta=1:', post_pred_202011\n",
    "print 'Próxima tirada Tiradas=20 Caras=20 Alpha=50 Beta=50:', post_pred_20205050\n"
   ]
  },
  {
   "cell_type": "markdown",
   "metadata": {},
   "source": [
    "#### Qué puede concluir de los priors elegidos? Y del modelo en general?"
   ]
  },
  {
   "cell_type": "markdown",
   "metadata": {},
   "source": [
    "### Pensando en su propia experiencia, considere cuántas caras consecutivas le harían empezar a sospechar que la moneda está cargada. A partir de este número y usando el modelo, diga cuáles son los parámetros de prior Beta"
   ]
  },
  {
   "cell_type": "code",
   "execution_count": null,
   "metadata": {},
   "outputs": [],
   "source": []
  }
 ],
 "metadata": {
  "kernelspec": {
   "display_name": "Python 2",
   "language": "python",
   "name": "python2"
  },
  "language_info": {
   "codemirror_mode": {
    "name": "ipython",
    "version": 2
   },
   "file_extension": ".py",
   "mimetype": "text/x-python",
   "name": "python",
   "nbconvert_exporter": "python",
   "pygments_lexer": "ipython2",
   "version": "2.7.13"
  }
 },
 "nbformat": 4,
 "nbformat_minor": 2
}
