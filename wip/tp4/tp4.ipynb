{
 "cells": [
  {
   "cell_type": "code",
   "execution_count": null,
   "metadata": {
    "collapsed": true
   },
   "outputs": [],
   "source": [
    "import matplotlib.pyplot as plt\n",
    "import networkx as nx\n",
    "import pandas as pd\n",
    "import numpy as np\n",
    "from IPython.display import display\n"
   ]
  },
  {
   "cell_type": "code",
   "execution_count": null,
   "metadata": {
    "collapsed": true
   },
   "outputs": [],
   "source": [
    "### UNCOMMENT FOR PREPROCESSING\n",
    "# with open(\"data.csv\", \"r\") as infile, open(\"processed.csv\", \"w\") as outfile:\n",
    "#     for line in infile:\n",
    "#         splited = line.split(',')[3]\n",
    "#         outfile.write(splited.upper())\n",
    "#         outfile.write('\\n')"
   ]
  },
  {
   "cell_type": "code",
   "execution_count": null,
   "metadata": {
    "collapsed": true
   },
   "outputs": [],
   "source": [
    "G = nx.Graph()\n",
    "with open(\"processed.csv\", \"r\") as infile:\n",
    "    for k, line in enumerate(infile):\n",
    "        splited = map(str.strip, line.split('&'))\n",
    "        for i in xrange(len(splited)):\n",
    "            G.add_node(splited[i])\n",
    "            for j in xrange(i+1, len(splited)):\n",
    "                G.add_edge(splited[i], splited[j])\n"
   ]
  },
  {
   "cell_type": "markdown",
   "metadata": {},
   "source": [
    "## A partir del archivo de datos, genere el grafo de colaboraciones entre autores. Cuente el número de nodos y aristas. Haga una representación gráfica del grafo"
   ]
  },
  {
   "cell_type": "code",
   "execution_count": null,
   "metadata": {},
   "outputs": [],
   "source": [
    "plt.subplots(figsize=(20,20))\n",
    "nx.draw_shell(G)\n",
    "\n",
    "plt.show()\n",
    "\n",
    "print 'Número de nodos:', nx.number_of_nodes(G)\n",
    "print 'Número de aristas:', nx.number_of_edges(G)"
   ]
  },
  {
   "cell_type": "markdown",
   "metadata": {},
   "source": [
    "## Grafique la distribución del grado de los autores, en escalas lineales, semilogarítmica, y log-log. Argumente, a partir de los gráficos, de qué tipo de distribución se trata"
   ]
  },
  {
   "cell_type": "code",
   "execution_count": null,
   "metadata": {},
   "outputs": [],
   "source": [
    "degree_sequence = sorted([n[1] for n in nx.degree(G)], reverse=True)\n",
    "plt.hist(degree_sequence, bins=50)\n",
    "plt.title('Distribution Degree')\n",
    "plt.xlabel('Degree')\n",
    "plt.ylabel('# of Nodes')\n",
    "plt.show()\n",
    "\n",
    "_, axs = plt.subplots(1, 2, figsize = (20, 5))\n",
    "\n",
    "h , b = np.histogram(degree_sequence, bins=50)\n",
    "axs[0].semilogy(h)\n",
    "axs[0].set_title('Semilog')\n",
    "axs[1].loglog(h)\n",
    "axs[1].set_title('Log-Log')\n",
    "plt.show()\n"
   ]
  },
  {
   "cell_type": "markdown",
   "metadata": {},
   "source": [
    "RESPONDER"
   ]
  },
  {
   "cell_type": "markdown",
   "metadata": {},
   "source": [
    "## Calcule el número de componentes conexas del grafo. Muestre el tamaño de la componente mayor, o componente gigante"
   ]
  },
  {
   "cell_type": "code",
   "execution_count": null,
   "metadata": {},
   "outputs": [],
   "source": [
    "connected_components = nx.connected_component_subgraphs(G)\n",
    "\n",
    "graphs = list(connected_components)\n",
    "print 'Número de componentes conexas:', len(graphs)\n",
    "max_component = max(graphs, key=len)\n",
    "print 'Tamaño de la componente gigante:', nx.number_of_nodes(max_component)"
   ]
  },
  {
   "cell_type": "markdown",
   "metadata": {},
   "source": [
    "## Trabajando con la componente gigante del grafo, estudie, parándose en un nodo al azar, cómo aumenta el número de autores alcanzados a medida que se aleja del nodo semilla. Grafique el número de autores alcanzados en función de la distancia al nodo semilla. Grafique también el número de nuevos autores que se agregan en cada paso, y estime el máximo de esta función. Pruebe con varios nodos semillas y analice la robustez de este resultado. Discuta el significado de los gráficos y su relación con el fenómeno de seis grados de separación"
   ]
  },
  {
   "cell_type": "code",
   "execution_count": null,
   "metadata": {
    "collapsed": true
   },
   "outputs": [],
   "source": [
    "# TODO"
   ]
  },
  {
   "cell_type": "markdown",
   "metadata": {},
   "source": [
    "## Compute el coeficiente de clustering C y el camino mínimo medio l para la componente gigante. Genere un grafo aleatorio con la misma distribución de grado y compute las mismas medidas para este grafo. Compare e interprete los resultados. ¿Se trata de un grafo con estructura de mundos pequeños?"
   ]
  },
  {
   "cell_type": "code",
   "execution_count": null,
   "metadata": {
    "collapsed": true
   },
   "outputs": [],
   "source": []
  },
  {
   "cell_type": "markdown",
   "metadata": {},
   "source": [
    "## Discuta cómo haría para individuar a los autores \"estrella\" del campo. Evalúe quiénes son estos autores según por lo menos dos métricas diferentes. Analice qué sucedería con la comunidad si estos autores desapareciesen. En particular, determine cuántos autores deberían desaparecer para que desaparezca la componente gigante del grafo"
   ]
  },
  {
   "cell_type": "code",
   "execution_count": null,
   "metadata": {
    "collapsed": true
   },
   "outputs": [],
   "source": []
  }
 ],
 "metadata": {
  "kernelspec": {
   "display_name": "Python 2",
   "language": "python",
   "name": "python2"
  },
  "language_info": {
   "codemirror_mode": {
    "name": "ipython",
    "version": 2
   },
   "file_extension": ".py",
   "mimetype": "text/x-python",
   "name": "python",
   "nbconvert_exporter": "python",
   "pygments_lexer": "ipython2",
   "version": "2.7.13"
  }
 },
 "nbformat": 4,
 "nbformat_minor": 2
}
