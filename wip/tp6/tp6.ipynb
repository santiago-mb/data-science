{
 "cells": [
  {
   "cell_type": "code",
   "execution_count": 76,
   "metadata": {},
   "outputs": [],
   "source": [
    "import nltk.data\n",
    "import operator\n",
    "import string\n",
    "from nltk.corpus import stopwords\n",
    "sent_detector = nltk.data.load('tokenizers/punkt/english.pickle')\n",
    "# stop = stopwords.words('english') + list(string.punctuation)\n",
    "stop = list(string.punctuation)\n"
   ]
  },
  {
   "cell_type": "markdown",
   "metadata": {},
   "source": [
    "## Asociación de palabras"
   ]
  },
  {
   "cell_type": "markdown",
   "metadata": {},
   "source": [
    "### Levantar el corpus AP, separando cada noticia como un elemento distinto en un diccionario (``<DOCNO>``: ``<TEXT>``)"
   ]
  },
  {
   "cell_type": "code",
   "execution_count": 77,
   "metadata": {},
   "outputs": [],
   "source": [
    "apCorpus = {}\n",
    "with open('ap/ap.txt', 'r') as ap:\n",
    "    nextDoc = ap.readline()\n",
    "    while nextDoc:\n",
    "        docNumber = ap.readline().split(' ')[1]\n",
    "        ap.readline()\n",
    "        text = ap.readline().strip()\n",
    "        ap.readline()\n",
    "        ap.readline()\n",
    "        apCorpus[docNumber] = text\n",
    "        nextDoc = ap.readline()\n"
   ]
  },
  {
   "cell_type": "markdown",
   "metadata": {},
   "source": [
    "### Calcular el tamaño del vocabulario"
   ]
  },
  {
   "cell_type": "code",
   "execution_count": 78,
   "metadata": {},
   "outputs": [],
   "source": [
    "apWords = set()\n",
    "apWordsFrequencies = {}\n",
    "apCorpusSize = 0\n",
    "for _, text in apCorpus.iteritems():\n",
    "    sentences = sent_detector.tokenize(text)\n",
    "    for sentence in sentences:\n",
    "        tokenList = [i for i in nltk.word_tokenize(sentence.lower()) if i not in stop]\n",
    "        apCorpusSize += len(tokenList)\n",
    "        tokens = set(tokenList)\n",
    "        apWords |= tokens\n",
    "        for word in tokens:\n",
    "            if not word in apWordsFrequencies:\n",
    "                apWordsFrequencies[word] = 0\n",
    "            apWordsFrequencies[word] += sentence.count(word)\n"
   ]
  },
  {
   "cell_type": "code",
   "execution_count": 79,
   "metadata": {},
   "outputs": [
    {
     "name": "stdout",
     "output_type": "stream",
     "text": [
      "Tamaño del vocabulario: 42771\n"
     ]
    }
   ],
   "source": [
    "print 'Tamaño del vocabulario:', len(apWords)\n"
   ]
  },
  {
   "cell_type": "markdown",
   "metadata": {},
   "source": [
    "### Para las 500 palabras con más apariciones, calcular el par más asociado según la medida presentada"
   ]
  },
  {
   "cell_type": "code",
   "execution_count": 80,
   "metadata": {},
   "outputs": [
    {
     "name": "stdout",
     "output_type": "stream",
     "text": [
      "['a', 'the', 'in', 'to', 'of', 'and', 'on', 'he', 'said', 'i', '``', \"''\", 'for', 'at', 'an', 'is', \"'s\", 'that', 'was', 'it', 'as', 'with', 'by', 'be', 'from', 'or', 'his', 'have', 'were', 'not', 'are', 'has', 'who', 'had', 'would', 'will', 'they', 'but', 'about', 'been', 'their', 'percent', 'which', 'its', 'this', 'up', 'after', 'we', 'more', 'year', 'one', \"n't\", 'people', 'no', 'million', 'also', 'other', 'than', 'two', 'government', 'all', 'out', 'when', 'last', 'do', 'years', 'her', 'over', 'could', 'new', 'if', 'there', 'into', 'can', 'she', 'some', 'first', 'because', 'them', 'time', 'officials', 'state', 'before', 'did', 'billion', 'you', 'today', 'police', 'only', 'president', 'any', 'told', 'against', 'three', 'down', 'him', '1', 'day', 'so', 'since', 'what', 'week', 'company', 'during', 'most', 'where', 'made', 'our', 'say', 'under', 'market', 'report', 'being', 'now', 'off', 'between', 'through', 'country', 'military', 'just', 'those', 'group', 'should', 'such', 'federal', 't', 'many', 'members', 'reported', 'get', 'political', 'including', 'make', 'former', 'news', 'going', 'while', '10', 'work', 'home', 'spokesman', 'think', 'like', 'says', 'back', 'official', 'next', 'month', 'way', 'go', 'take', 'court', 'then', 'still', 'very', 'prices', \"'re\", 'called', 'four', 'found', 'part', 'much', 'nation', 'campaign', 'money', 'use', 'may', 'law', '...', 'program', 'case', 'plan', 'used', 'days', 'office', 'city', 'months', 'meeting', 'support', 'end', 'five', 'late', 'economic', '2', 'help', 'several', 'trade', 'ago', 'public', 'men', 'how', 'later', 'world', 'man', 'expected', 'me', 'killed', 'least', 'began', 'workers', 'early', 'us', 'party', 'major', 'administration', 'saying', 'business', 'night', 'came', 'another', 'until', 'oil', 'both', 'system', 'agreement', 'dollar', 'chief', 'even', 'want', 'miles', 'family', 'among', 'took', 'children', 'asked', 'good', 'same', 'according', 'bill', 'my', '20', 'national', 'own', '30', 'number', 'aid', 'whether', 'statement', 'leader', '3', 'drug', 'foreign', 'without', 'held', '1987', 'does', 'earlier', 'talks', 'war', 'know', 'left', 'higher', 'defense', 'see', 'here', 'must', 'death', 'announced', 'vote', 'set', 'decision', 'put', 'sales', 'past', 'high', 'leaders', 'interest', 'long', 'director', 'price', 'each', 'might', 'six', 'rose', 'charges', 'agency', 'area', 'pay', '15', 'trial', 'issue', 'rights', 'fire', 'power', 'died', 'these', 'control', 'economy', 'around', 'too', '5', 'prison', 'second', 'come', 'de', 'countries', 'show', 'tax', 'life', 'air', 'few', '1986', 'well', 'rate', 'never', 'got', 'stock', 'cents', 'close', 'school', 'give', 'troops', 'force', \"'ve\", '1988', 'women', 'authorities', 'less', 'chairman', 'students', 'increase', 'rates', 'trading', 'problems', 's', 'recent', 'general', 'security', 'lower', 'right', 'released', 'budget', 'near', 'board', 'forces', 'issues', '1989', 'hours', 'taken', \"'m\", 'away', 'reporters', 'went', 'share', 'cent', 'industry', 'policy', 'fell', 'attorney', 'black', 'conference', 'record', 'vice', 'condition', 'presidential', 'far', 'service', 'order', '12', 'top', 'received', 'head', 'whose', 'added', 'weeks', 'agreed', 'union', 'offer', 'capital', 'wife', 'bank', 'little', 'per', 'committee', 'information', 'employees', 'food', '4', 'largest', 'others', 'states', 'place', 'member', 'known', 'television', 'cut', 'move', 'change', 'attack', 'cost', 'reports', 'opposition', 'election', 'companies', 'job', 'already', 'given', 'outside', '8', 'points', 'private', '100', 'need', 'newspaper', 'average', 'across', 'groups', 'water', 'enough', 'lost', 'believe', 'scheduled', 'investigation', 'return', 'accused', 'nearly', 'plans', 'total', 'judge', 'sent', 'trying', '25', 'building', 'led', 'included', 'arrested', 'action', '6', 'along', 'small', 'shot', 'continue', 'international', 'gave', 'peace', 'include', 'possible', 'human', 'contract', 'interview', 'local', 'half', 'won', 'keep', 'index', 'executive', 'become', '11', 'again', 'refused', 'financial', 'deal', 'call', 'eight', 'health', 'plant', 'times', 'met', 'point', 'morning', 'working', 'seven', 'town', 'every', '50', 'yen', 'strong', 'open', 'soldiers', 'filed', 'best', 'face', 'charged', 'making', 'army', 'closed', 'problem', 'hospital', 'real', 'important', 'study', 'special', 'elections', 'future', 'ca', 'son', 'leave', 'likely', 'planned', \"'ll\", 'your', 'further', 'production', 'something', 'lot', 'proposal', 'proposed', 'minister', 'spending', 'house']\n"
     ]
    }
   ],
   "source": [
    "apTop500Freq = []\n",
    "for i, (word, count) in enumerate(sorted(apWordsFrequencies.iteritems(), key=operator.itemgetter(1), reverse = True)):\n",
    "    if i >= 500:\n",
    "        break\n",
    "    apTop500Freq.append(word)\n",
    "print apTop500Freq\n"
   ]
  },
  {
   "cell_type": "code",
   "execution_count": null,
   "metadata": {},
   "outputs": [],
   "source": []
  }
 ],
 "metadata": {
  "kernelspec": {
   "display_name": "Python 2",
   "language": "python",
   "name": "python2"
  },
  "language_info": {
   "codemirror_mode": {
    "name": "ipython",
    "version": 2
   },
   "file_extension": ".py",
   "mimetype": "text/x-python",
   "name": "python",
   "nbconvert_exporter": "python",
   "pygments_lexer": "ipython2",
   "version": "2.7.13"
  }
 },
 "nbformat": 4,
 "nbformat_minor": 2
}
