{
 "cells": [
  {
   "cell_type": "code",
   "execution_count": 63,
   "metadata": {},
   "outputs": [],
   "source": [
    "import nltk.data\n",
    "import operator\n",
    "import string\n",
    "from nltk.corpus import stopwords\n",
    "sent_detector = nltk.data.load('tokenizers/punkt/english.pickle')\n",
    "stop = stopwords.words('english') + list(string.punctuation)\n"
   ]
  },
  {
   "cell_type": "markdown",
   "metadata": {},
   "source": [
    "## Asociación de palabras"
   ]
  },
  {
   "cell_type": "markdown",
   "metadata": {},
   "source": [
    "### Levantar el corpus AP, separando cada noticia como un elemento distinto en un diccionario (``<DOCNO>``: ``<TEXT>``)"
   ]
  },
  {
   "cell_type": "code",
   "execution_count": 17,
   "metadata": {},
   "outputs": [],
   "source": [
    "apCorpus = {}\n",
    "with open('ap/ap.txt', 'r') as ap:\n",
    "    nextDoc = ap.readline()\n",
    "    while nextDoc:\n",
    "        docNumber = ap.readline().split(' ')[1]\n",
    "        ap.readline()\n",
    "        text = ap.readline().strip()\n",
    "        ap.readline()\n",
    "        ap.readline()\n",
    "        apCorpus[docNumber] = text\n",
    "        nextDoc = ap.readline()\n"
   ]
  },
  {
   "cell_type": "markdown",
   "metadata": {},
   "source": [
    "### Calcular el tamaño del vocabulario"
   ]
  },
  {
   "cell_type": "code",
   "execution_count": 74,
   "metadata": {},
   "outputs": [],
   "source": [
    "apWords = set()\n",
    "apWordsFrequencies = {}\n",
    "apCorpusSize = 0\n",
    "for _, text in apCorpus.iteritems():\n",
    "    sentences = sent_detector.tokenize(text)\n",
    "    for sentence in sentences:\n",
    "        tokenList = [i for i in nltk.word_tokenize(sentence.lower()) if i not in stop]\n",
    "        apCorpusSize += len(tokenList)\n",
    "        tokens = set(tokenList)\n",
    "        apWords = apWords.union(tokens)\n",
    "        for word in tokens:\n",
    "            if not word in apWordsFrequencies:\n",
    "                apWordsFrequencies[word] = 0\n",
    "            apWordsFrequencies[word] += sentence.count(word)\n"
   ]
  },
  {
   "cell_type": "code",
   "execution_count": 75,
   "metadata": {},
   "outputs": [
    {
     "name": "stdout",
     "output_type": "stream",
     "text": [
      "Tamaño del vocabulario: 42637\n",
      "582934\n"
     ]
    }
   ],
   "source": [
    "print 'Tamaño del vocabulario:', len(apWords)\n"
   ]
  },
  {
   "cell_type": "markdown",
   "metadata": {},
   "source": [
    "### Para las 500 palabras con más apariciones, calcular el par más asociado según la medida presentada"
   ]
  },
  {
   "cell_type": "code",
   "execution_count": 73,
   "metadata": {},
   "outputs": [
    {
     "name": "stdout",
     "output_type": "stream",
     "text": [
      "['said', '``', \"''\", \"'s\", 'would', 'percent', 'year', 'one', \"n't\", 'people', 'million', 'also', 'two', 'government', 'last', 'years', 'could', 'new', 'first', 'time', 'officials', 'state', 'billion', 'today', 'police', 'president', 'told', 'three', '1', 'day', 'since', 'week', 'company', 'made', 'say', 'market', 'report', 'country', 'military', 'group', 'federal', 'many', 'members', 'reported', 'get', 'political', 'including', 'make', 'former', 'news', 'going', '10', 'work', 'home', 'spokesman', 'think', 'like', 'says', 'back', 'official', 'next', 'month', 'way', 'go', 'take', 'court', 'still', 'prices', \"'re\", 'called', 'four', 'found', 'part', 'much', 'nation', 'campaign', 'money', 'use', 'may', 'law', '...', 'program', 'case', 'plan', 'used', 'days', 'office', 'city', 'months', 'meeting', 'support', 'end', 'five', 'late', 'economic', '2', 'help', 'several', 'trade', 'ago', 'public', 'men', 'later', 'world', 'man', 'expected', 'killed', 'least', 'began', 'workers', 'early', 'us', 'party', 'major', 'administration', 'saying', 'business', 'night', 'came', 'another', 'oil', 'system', 'agreement', 'dollar', 'chief', 'even', 'want', 'miles', 'family', 'among', 'took', 'children', 'asked', 'good', 'according', 'bill', '20', 'national', '30', 'number', 'aid', 'whether', 'statement', 'leader', '3', 'drug', 'foreign', 'without', 'held', '1987', 'earlier', 'talks', 'war', 'know', 'left', 'higher', 'defense', 'see', 'must', 'death', 'announced', 'vote', 'set', 'decision', 'put', 'sales', 'past', 'high', 'leaders', 'interest', 'long', 'director', 'price', 'might', 'six', 'rose', 'charges', 'agency', 'area', 'pay', '15', 'trial', 'issue', 'rights', 'fire', 'power', 'died', 'control', 'economy', 'around', '5', 'prison', 'second', 'come', 'de', 'countries', 'show', 'tax', 'life', 'air', '1986', 'well', 'rate', 'never', 'got', 'stock', 'cents', 'close', 'school', 'give', 'troops', 'force', \"'ve\", '1988', 'women', 'authorities', 'less', 'chairman', 'students', 'increase', 'rates', 'trading', 'problems', 'recent', 'general', 'security', 'lower', 'right', 'released', 'budget', 'near', 'board', 'forces', 'issues', '1989', 'hours', 'taken', \"'m\", 'away', 'reporters', 'went', 'share', 'cent', 'industry', 'policy', 'fell', 'attorney', 'black', 'conference', 'record', 'vice', 'condition', 'presidential', 'far', 'service', 'order', '12', 'top', 'received', 'head', 'whose', 'added', 'weeks', 'agreed', 'union', 'offer', 'capital', 'wife', 'bank', 'little', 'per', 'committee', 'information', 'employees', 'food', '4', 'largest', 'others', 'states', 'place', 'member', 'known', 'television', 'cut', 'move', 'change', 'attack', 'cost', 'reports', 'opposition', 'election', 'companies', 'job', 'already', 'given', 'outside', '8', 'points', 'private', '100', 'need', 'newspaper', 'average', 'across', 'groups', 'water', 'enough', 'lost', 'believe', 'scheduled', 'investigation', 'return', 'accused', 'nearly', 'plans', 'total', 'judge', 'sent', 'trying', '25', 'building', 'led', 'included', 'arrested', 'action', '6', 'along', 'small', 'shot', 'continue', 'international', 'gave', 'peace', 'include', 'possible', 'human', 'contract', 'interview', 'local', 'half', 'keep', 'index', 'executive', 'become', '11', 'refused', 'financial', 'deal', 'call', 'eight', 'health', 'plant', 'times', 'met', 'point', 'morning', 'working', 'seven', 'town', 'every', '50', 'yen', 'strong', 'open', 'soldiers', 'filed', 'best', 'face', 'charged', 'making', 'army', 'closed', 'problem', 'hospital', 'real', 'important', 'study', 'special', 'elections', 'future', 'ca', 'son', 'leave', 'likely', 'planned', \"'ll\", 'production', 'something', 'lot', 'proposal', 'proposed', 'minister', 'spending', 'house', 'free', 'allow', 'taking', 'final', 'wanted', '40', 'central', 'toward', '1985', 'bid', 'allowed', 'involved', 'side', 'plane', 'better', 'find', 'sold', 'car', 'name', 'release', 'thousands', 'done', 'legislation', 'became', 'session', 'officers', 'jobs', 'failed', 'seen', 'shares', 'ordered', 'department', 'meet', 'strike', 'large', 'based', 'community', 'things', 'woman', 'officer', 'deficit', '13', 'continued', 'white', 'approved', 'run', 'radio', 'provide', 'third', 'violence', '7', 'effort', 'big', 'senior', 'situation', 'level', 'paid', 'fall', 'areas', 'comment', 'victims', 'computer', 'center', 'previous', 'quoted', 'cases', 'sources', 'annual', 'hit', 'following', 'cause', 'summit', 'governor', 'behind', 'brought', 'main', 'calls', 'value', 'look', 'estimated', '18', 'able', 'position', 'within', 'convicted', 'recently', 'negotiations', '16', 'running', 'telephone', 'reached', 'appeared', 'evidence', 'income', 'worked', 'speech', 'futures', 'lead', 'period', 'ever', 'current', 'rebels', 'hope', 'products', 'declined', 'issued']\n"
     ]
    }
   ],
   "source": [
    "apTop500Freq = []\n",
    "for i, (word, count) in enumerate(sorted(apWordsFrequencies.iteritems(), key=operator.itemgetter(1), reverse = True)):\n",
    "    if i >= 500:\n",
    "        break\n",
    "    apTop500Freq.append(word)\n",
    "print apTop500Freq\n"
   ]
  },
  {
   "cell_type": "code",
   "execution_count": null,
   "metadata": {},
   "outputs": [],
   "source": []
  }
 ],
 "metadata": {
  "kernelspec": {
   "display_name": "Python 2",
   "language": "python",
   "name": "python2"
  },
  "language_info": {
   "codemirror_mode": {
    "name": "ipython",
    "version": 2
   },
   "file_extension": ".py",
   "mimetype": "text/x-python",
   "name": "python",
   "nbconvert_exporter": "python",
   "pygments_lexer": "ipython2",
   "version": "2.7.13"
  }
 },
 "nbformat": 4,
 "nbformat_minor": 2
}
